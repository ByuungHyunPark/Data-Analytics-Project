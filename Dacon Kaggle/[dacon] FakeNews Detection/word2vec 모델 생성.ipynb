{
 "cells": [
  {
   "cell_type": "code",
   "execution_count": 1,
   "metadata": {},
   "outputs": [],
   "source": [
    "import pandas as pd\n",
    "import os\n",
    "\n",
    "os.chdir('C:/Users/user654/PycharmProjects/NewsCrawling/2020_1~6')\n",
    "\n",
    "print(os.listdir())"
   ]
  },
  {
   "cell_type": "markdown",
   "metadata": {},
   "source": [
    "##### 데이터프레임 생성"
   ]
  },
  {
   "cell_type": "code",
   "execution_count": 2,
   "metadata": {
    "scrolled": true
   },
   "outputs": [
    {
     "data": {
      "text/html": [
       "<div>\n",
       "<style scoped>\n",
       "    .dataframe tbody tr th:only-of-type {\n",
       "        vertical-align: middle;\n",
       "    }\n",
       "\n",
       "    .dataframe tbody tr th {\n",
       "        vertical-align: top;\n",
       "    }\n",
       "\n",
       "    .dataframe thead th {\n",
       "        text-align: right;\n",
       "    }\n",
       "</style>\n",
       "<table border=\"1\" class=\"dataframe\">\n",
       "  <thead>\n",
       "    <tr style=\"text-align: right;\">\n",
       "      <th></th>\n",
       "      <th>title</th>\n",
       "      <th>content</th>\n",
       "    </tr>\n",
       "  </thead>\n",
       "  <tbody>\n",
       "    <tr>\n",
       "      <th>0</th>\n",
       "      <td>아파트 공급↓…유동자금↑ 일상톡톡 플러스</td>\n",
       "      <td>올해 집값 좌우할 3가지 변수…풍부한 유동자금 기준금리 보유세 강화 매도 vs 매수...</td>\n",
       "    </tr>\n",
       "    <tr>\n",
       "      <th>1</th>\n",
       "      <td>폭스바겐 전기차 목표 상향에…국내 배터리업체 바쁜 2020년 전망</td>\n",
       "      <td>폭스바겐 전기차 2025년 100만대→150만대로 목표치 상향 헤럴드경제 이세진 기...</td>\n",
       "    </tr>\n",
       "    <tr>\n",
       "      <th>2</th>\n",
       "      <td>포토 홈플러스 57L 대용량 바구니 대여해드립니다</td>\n",
       "      <td>1일 서울 등촌동 홈플러스 강서점에서 모델들이 대용량 대여용 장바구니를 선보이고 있...</td>\n",
       "    </tr>\n",
       "    <tr>\n",
       "      <th>3</th>\n",
       "      <td>中인민은행 지준율 6일부터 0.5%P 인하</td>\n",
       "      <td>중국 정부도 신년을 맞아 경기 부양에 나섰다. 중국 중앙은행 인민은행 PBOC 은 ...</td>\n",
       "    </tr>\n",
       "  </tbody>\n",
       "</table>\n",
       "</div>"
      ],
      "text/plain": [
       "                                  title  \\\n",
       "0                아파트 공급↓…유동자금↑ 일상톡톡 플러스   \n",
       "1  폭스바겐 전기차 목표 상향에…국내 배터리업체 바쁜 2020년 전망   \n",
       "2           포토 홈플러스 57L 대용량 바구니 대여해드립니다   \n",
       "3               中인민은행 지준율 6일부터 0.5%P 인하   \n",
       "\n",
       "                                             content  \n",
       "0  올해 집값 좌우할 3가지 변수…풍부한 유동자금 기준금리 보유세 강화 매도 vs 매수...  \n",
       "1  폭스바겐 전기차 2025년 100만대→150만대로 목표치 상향 헤럴드경제 이세진 기...  \n",
       "2  1일 서울 등촌동 홈플러스 강서점에서 모델들이 대용량 대여용 장바구니를 선보이고 있...  \n",
       "3  중국 정부도 신년을 맞아 경기 부양에 나섰다. 중국 중앙은행 인민은행 PBOC 은 ...  "
      ]
     },
     "metadata": {},
     "output_type": "display_data"
    },
    {
     "data": {
      "text/html": [
       "<div>\n",
       "<style scoped>\n",
       "    .dataframe tbody tr th:only-of-type {\n",
       "        vertical-align: middle;\n",
       "    }\n",
       "\n",
       "    .dataframe tbody tr th {\n",
       "        vertical-align: top;\n",
       "    }\n",
       "\n",
       "    .dataframe thead th {\n",
       "        text-align: right;\n",
       "    }\n",
       "</style>\n",
       "<table border=\"1\" class=\"dataframe\">\n",
       "  <thead>\n",
       "    <tr style=\"text-align: right;\">\n",
       "      <th></th>\n",
       "      <th>title</th>\n",
       "      <th>content</th>\n",
       "    </tr>\n",
       "  </thead>\n",
       "  <tbody>\n",
       "    <tr>\n",
       "      <th>355621</th>\n",
       "      <td>한국인디게임협회 사단법인 출범…최훈 협회장 선임</td>\n",
       "      <td>인디개발자의 권익과 상생협력 도모 서울 뉴시스 오동현 기자 한국인디게임의 발전과 업...</td>\n",
       "    </tr>\n",
       "    <tr>\n",
       "      <th>355622</th>\n",
       "      <td>큐렉소 인공관절 수술로봇 인도에 수출</td>\n",
       "      <td>머니투데이 김근희 기자 큐비스 조인트 첫 해외수출 큐비스 조인트 사진 큐렉소 의료로...</td>\n",
       "    </tr>\n",
       "    <tr>\n",
       "      <th>355623</th>\n",
       "      <td>‘中 불청객’ 괭생이모자반 656톤 밀려왔다…“韓 어민 직격탄”</td>\n",
       "      <td>중국서 유입돼 제주 등 남해 곳곳 퍼져 악취 풍기고 양식장·선박 운항 피해도 온난화...</td>\n",
       "    </tr>\n",
       "    <tr>\n",
       "      <th>355624</th>\n",
       "      <td>캠코 2조 들여 ‘자금난’ 기업 자산 사준다</td>\n",
       "      <td>코로나19 대응 유동성 지원 은성수 금융위원장 금융위 제공 정부가 2조원 규모의 기...</td>\n",
       "    </tr>\n",
       "  </tbody>\n",
       "</table>\n",
       "</div>"
      ],
      "text/plain": [
       "                                      title  \\\n",
       "355621           한국인디게임협회 사단법인 출범…최훈 협회장 선임   \n",
       "355622                 큐렉소 인공관절 수술로봇 인도에 수출   \n",
       "355623  ‘中 불청객’ 괭생이모자반 656톤 밀려왔다…“韓 어민 직격탄”   \n",
       "355624             캠코 2조 들여 ‘자금난’ 기업 자산 사준다   \n",
       "\n",
       "                                                  content  \n",
       "355621  인디개발자의 권익과 상생협력 도모 서울 뉴시스 오동현 기자 한국인디게임의 발전과 업...  \n",
       "355622  머니투데이 김근희 기자 큐비스 조인트 첫 해외수출 큐비스 조인트 사진 큐렉소 의료로...  \n",
       "355623  중국서 유입돼 제주 등 남해 곳곳 퍼져 악취 풍기고 양식장·선박 운항 피해도 온난화...  \n",
       "355624  코로나19 대응 유동성 지원 은성수 금융위원장 금융위 제공 정부가 2조원 규모의 기...  "
      ]
     },
     "metadata": {},
     "output_type": "display_data"
    }
   ],
   "source": [
    "df = pd.DataFrame()\n",
    "for i in os.listdir():\n",
    "    if 'Article' in i:\n",
    "        monthCSV = pd.read_csv(i , engine = 'python', header = None)\n",
    "        df = df.append(monthCSV, ignore_index = True)\n",
    "    \n",
    "df = df.rename(columns = {0 : 'date' , 1 : 'category', 2 : 'media', 3 : 'title', 4 : 'content', 5 : 'url'})\n",
    "df.drop(['date', 'category', 'media','url'], axis = 1, inplace = True)\n",
    "\n",
    "display(df.head(4), df.tail(4))"
   ]
  },
  {
   "cell_type": "markdown",
   "metadata": {},
   "source": [
    "##### 데이콘 데이터~ "
   ]
  },
  {
   "cell_type": "code",
   "execution_count": 3,
   "metadata": {},
   "outputs": [
    {
     "data": {
      "text/html": [
       "<div>\n",
       "<style scoped>\n",
       "    .dataframe tbody tr th:only-of-type {\n",
       "        vertical-align: middle;\n",
       "    }\n",
       "\n",
       "    .dataframe tbody tr th {\n",
       "        vertical-align: top;\n",
       "    }\n",
       "\n",
       "    .dataframe thead th {\n",
       "        text-align: right;\n",
       "    }\n",
       "</style>\n",
       "<table border=\"1\" class=\"dataframe\">\n",
       "  <thead>\n",
       "    <tr style=\"text-align: right;\">\n",
       "      <th></th>\n",
       "      <th>title</th>\n",
       "      <th>content</th>\n",
       "      <th>info</th>\n",
       "    </tr>\n",
       "  </thead>\n",
       "  <tbody>\n",
       "    <tr>\n",
       "      <th>118742</th>\n",
       "      <td>모나리자, 중원 지분 16.88% 양수 결정</td>\n",
       "      <td>똑똑해진 소비자..한국도 이젠 소형차 시대</td>\n",
       "      <td>1</td>\n",
       "    </tr>\n",
       "    <tr>\n",
       "      <th>118743</th>\n",
       "      <td>모나리자, 중원 지분 16.88% 양수 결정</td>\n",
       "      <td>2020년 한국 TV 2대중 1대 인터넷 연결된다</td>\n",
       "      <td>1</td>\n",
       "    </tr>\n",
       "    <tr>\n",
       "      <th>118744</th>\n",
       "      <td>모나리자, 중원 지분 16.88% 양수 결정</td>\n",
       "      <td>2020년 한국 TV 2대중 1대 인터넷 연결된다</td>\n",
       "      <td>1</td>\n",
       "    </tr>\n",
       "  </tbody>\n",
       "</table>\n",
       "</div>"
      ],
      "text/plain": [
       "                           title                      content  info\n",
       "118742  모나리자, 중원 지분 16.88% 양수 결정      똑똑해진 소비자..한국도 이젠 소형차 시대     1\n",
       "118743  모나리자, 중원 지분 16.88% 양수 결정  2020년 한국 TV 2대중 1대 인터넷 연결된다     1\n",
       "118744  모나리자, 중원 지분 16.88% 양수 결정  2020년 한국 TV 2대중 1대 인터넷 연결된다     1"
      ]
     },
     "execution_count": 3,
     "metadata": {},
     "output_type": "execute_result"
    }
   ],
   "source": [
    "train = pd.read_csv('C:/[dacon]fakeNews/news_train.csv')\n",
    "test = pd.read_csv('C:/[dacon]fakeNews/news_test.csv')\n",
    "\n",
    "train.drop(['n_id','date','ord'], axis =1, inplace = True)\n",
    "test.drop(['n_id','date','ord'], axis =1, inplace = True)\n",
    "\n",
    "train.tail(3)"
   ]
  },
  {
   "cell_type": "code",
   "execution_count": 7,
   "metadata": {},
   "outputs": [
    {
     "name": "stdout",
     "output_type": "stream",
     "text": [
      "[마감]코스닥 기관 678억 순매도\n",
      "57039\n"
     ]
    }
   ],
   "source": [
    "import numpy as np\n",
    "\n",
    "sent = pd.concat([train['title'].drop_duplicates(), train['content'].drop_duplicates(), \n",
    "                train['title'].drop_duplicates(), train['title'].drop_duplicates()], ignore_index = True).tolist()\n",
    "\n",
    "print(sent[0])\n",
    "print(len(sent))"
   ]
  },
  {
   "cell_type": "code",
   "execution_count": 9,
   "metadata": {},
   "outputs": [
    {
     "name": "stdout",
     "output_type": "stream",
     "text": [
      "49770\n"
     ]
    }
   ],
   "source": [
    "sent = np.array(list(set(sent)))\n",
    "\n",
    "print(len(sent))"
   ]
  },
  {
   "cell_type": "markdown",
   "metadata": {},
   "source": [
    "##### ~데이콘 데이터"
   ]
  },
  {
   "cell_type": "code",
   "execution_count": 13,
   "metadata": {},
   "outputs": [
    {
     "data": {
      "text/plain": [
       "405395"
      ]
     },
     "execution_count": 13,
     "metadata": {},
     "output_type": "execute_result"
    }
   ],
   "source": [
    "#sents = np.concatenate([df['content'].values, sent])\n",
    "\n",
    "\n",
    "sents = list(df['content']) + list(sent)\n",
    "\n",
    "len(sents)"
   ]
  },
  {
   "cell_type": "markdown",
   "metadata": {},
   "source": [
    "##### 전처리"
   ]
  },
  {
   "cell_type": "code",
   "execution_count": 14,
   "metadata": {
    "scrolled": false
   },
   "outputs": [
    {
     "data": {
      "application/vnd.jupyter.widget-view+json": {
       "model_id": "c8f2b671b0b64ffb8e5016370b92d838",
       "version_major": 2,
       "version_minor": 0
      },
      "text/plain": [
       "HBox(children=(HTML(value=''), FloatProgress(value=0.0, max=405395.0), HTML(value='')))"
      ]
     },
     "metadata": {},
     "output_type": "display_data"
    },
    {
     "name": "stdout",
     "output_type": "stream",
     "text": [
      "\n"
     ]
    }
   ],
   "source": [
    "import re\n",
    "from eunjeon import Mecab\n",
    "from tqdm.notebook import tqdm\n",
    "from konlpy.tag import Hannanum\n",
    "def text_preprocessing(text_list):\n",
    "    \n",
    "    token_list = []\n",
    "    stopwords = ['습니다','됩니다','는다' , '으로', 'null', '에서', '으로' , '다고', \n",
    "                 '지만', '된다며', '전년', '라며', '라고', 'nbsp','된다','부터','보다',\n",
    "                '합니다','세요']\n",
    "    #tokenizer = Kkma()\n",
    "    \n",
    "    #tokenizer = Mecab()\n",
    "    tokenizer = Hannanum()\n",
    "    for index, text in enumerate(tqdm(text_list)):\n",
    "        try:\n",
    "            txt = re.sub('[^가-힣a-z新北韓日上中株美]', ' ', text.lower())\n",
    "            #txt = re.sub('&nbsp')\n",
    "            txt = txt.replace('&nbsp', ' ')\n",
    "            txt = txt.strip()\n",
    "\n",
    "            token = tokenizer.morphs(txt)\n",
    "            token = [t for t in token if t not in stopwords]\n",
    "            token = [t for t in token if (len(t) >=2) | (t in ['◆','▶','【','%' , '美', '미','러','북','北' , '韓', '日', '中', '上','新','株'])]\n",
    "            token = [i.strip() for i in token]\n",
    "            token_list.append(token)\n",
    "        except:\n",
    "            pass\n",
    "        \n",
    "    return token_list\n",
    "\n",
    "\n",
    "procSent = text_preprocessing(sents)"
   ]
  },
  {
   "cell_type": "code",
   "execution_count": 15,
   "metadata": {},
   "outputs": [
    {
     "data": {
      "text/plain": [
       "405395"
      ]
     },
     "execution_count": 15,
     "metadata": {},
     "output_type": "execute_result"
    }
   ],
   "source": [
    "len(procSent)"
   ]
  },
  {
   "cell_type": "code",
   "execution_count": 16,
   "metadata": {},
   "outputs": [],
   "source": [
    "import gensim"
   ]
  },
  {
   "cell_type": "code",
   "execution_count": 17,
   "metadata": {},
   "outputs": [],
   "source": [
    "size_embedding = 200 #Dimensionality of the feature vectors\n",
    "windows = 3 #Maximum distance between the current and predicted word within a sentence\n",
    "min_count = 1 #Ignores words with total frequency lower than this\n",
    "\n",
    "\n",
    "w2v_model = gensim.models.Word2Vec(sentences = procSent , \n",
    "                                   size = size_embedding,\n",
    "                                   window = windows,\n",
    "                                   min_count = min_count)"
   ]
  },
  {
   "cell_type": "markdown",
   "metadata": {},
   "source": [
    "##### 모델 저장"
   ]
  },
  {
   "cell_type": "code",
   "execution_count": null,
   "metadata": {},
   "outputs": [],
   "source": [
    "w2v_model.save(\"C:/[dacon]fakeNews/Hannanum_NaverNewsW2V.model\")"
   ]
  }
 ],
 "metadata": {
  "kernelspec": {
   "display_name": "Python 3",
   "language": "python",
   "name": "python3"
  },
  "language_info": {
   "codemirror_mode": {
    "name": "ipython",
    "version": 3
   },
   "file_extension": ".py",
   "mimetype": "text/x-python",
   "name": "python",
   "nbconvert_exporter": "python",
   "pygments_lexer": "ipython3",
   "version": "3.8.5"
  }
 },
 "nbformat": 4,
 "nbformat_minor": 4
}
