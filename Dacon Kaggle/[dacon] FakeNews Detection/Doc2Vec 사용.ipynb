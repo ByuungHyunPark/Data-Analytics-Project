{
 "cells": [
  {
   "cell_type": "markdown",
   "metadata": {},
   "source": [
    "- https://www.analyticsvidhya.com/blog/2020/08/top-4-sentence-embedding-techniques-using-python/\n",
    "- https://www.sbert.net/examples/training/data_augmentation/README.html\n",
    "sentence vectorizer"
   ]
  },
  {
   "cell_type": "markdown",
   "metadata": {},
   "source": [
    "- https://www.kaggle.com/quentinfu/word2vec-and-lstm-98-accuracy\n",
    "- https://www.youtube.com/watch?v=TsXR7_vtusQ"
   ]
  },
  {
   "cell_type": "code",
   "execution_count": 60,
   "metadata": {},
   "outputs": [],
   "source": [
    "import pandas as pd\n",
    "import numpy as np\n",
    "\n",
    "from collections import Counter\n",
    "from itertools import chain\n",
    "\n",
    "from sklearn.metrics import accuracy_score\n",
    "\n",
    "from tensorflow.keras.preprocessing.text import Tokenizer\n",
    "from tensorflow.keras.preprocessing.sequence import pad_sequences\n",
    "\n",
    "from tqdm.notebook import tqdm\n",
    "\n",
    "tokenizer = Tokenizer()\n",
    "\n",
    "import gensim\n",
    "import re\n",
    "from eunjeon import Mecab\n",
    "\n",
    "\n",
    "import matplotlib.pyplot as plt\n",
    "import seaborn as sns\n",
    "\n",
    "#한글 시각화\n",
    "import matplotlib\n",
    "from matplotlib import font_manager, rc\n",
    "\n",
    "font_name = font_manager.FontProperties(fname=\"c:/Windows/Fonts/malgun.ttf\").get_name()\n",
    "rc('font', family=font_name)\n",
    "matplotlib.rcParams['axes.unicode_minus'] = False"
   ]
  },
  {
   "cell_type": "code",
   "execution_count": 61,
   "metadata": {
    "scrolled": false
   },
   "outputs": [
    {
     "data": {
      "text/html": [
       "<div>\n",
       "<style scoped>\n",
       "    .dataframe tbody tr th:only-of-type {\n",
       "        vertical-align: middle;\n",
       "    }\n",
       "\n",
       "    .dataframe tbody tr th {\n",
       "        vertical-align: top;\n",
       "    }\n",
       "\n",
       "    .dataframe thead th {\n",
       "        text-align: right;\n",
       "    }\n",
       "</style>\n",
       "<table border=\"1\" class=\"dataframe\">\n",
       "  <thead>\n",
       "    <tr style=\"text-align: right;\">\n",
       "      <th></th>\n",
       "      <th>n_id</th>\n",
       "      <th>date</th>\n",
       "      <th>title</th>\n",
       "      <th>content</th>\n",
       "      <th>ord</th>\n",
       "      <th>info</th>\n",
       "    </tr>\n",
       "  </thead>\n",
       "  <tbody>\n",
       "    <tr>\n",
       "      <th>0</th>\n",
       "      <td>NEWS02580</td>\n",
       "      <td>20200605</td>\n",
       "      <td>[마감]코스닥 기관 678억 순매도</td>\n",
       "      <td>[이데일리 MARKETPOINT]15:32 현재 코스닥 기관 678억 순매도</td>\n",
       "      <td>1</td>\n",
       "      <td>0</td>\n",
       "    </tr>\n",
       "    <tr>\n",
       "      <th>1</th>\n",
       "      <td>NEWS02580</td>\n",
       "      <td>20200605</td>\n",
       "      <td>[마감]코스닥 기관 678억 순매도</td>\n",
       "      <td>\"실적기반\" 저가에 매집해야 할 8월 급등유망주 TOP 5 전격공개</td>\n",
       "      <td>2</td>\n",
       "      <td>1</td>\n",
       "    </tr>\n",
       "    <tr>\n",
       "      <th>2</th>\n",
       "      <td>NEWS02580</td>\n",
       "      <td>20200605</td>\n",
       "      <td>[마감]코스닥 기관 678억 순매도</td>\n",
       "      <td>하이스탁론, 선취수수료 없는 월 0.4% 최저금리 상품 출시</td>\n",
       "      <td>3</td>\n",
       "      <td>1</td>\n",
       "    </tr>\n",
       "    <tr>\n",
       "      <th>3</th>\n",
       "      <td>NEWS02580</td>\n",
       "      <td>20200605</td>\n",
       "      <td>[마감]코스닥 기관 678억 순매도</td>\n",
       "      <td>종합 경제정보 미디어 이데일리 - 무단전재 &amp; 재배포 금지</td>\n",
       "      <td>4</td>\n",
       "      <td>0</td>\n",
       "    </tr>\n",
       "    <tr>\n",
       "      <th>4</th>\n",
       "      <td>NEWS09727</td>\n",
       "      <td>20200626</td>\n",
       "      <td>롯데·공영 등 7개 TV 홈쇼핑들, 동행세일 동참</td>\n",
       "      <td>전국적인 소비 붐 조성에 기여할 예정</td>\n",
       "      <td>1</td>\n",
       "      <td>0</td>\n",
       "    </tr>\n",
       "    <tr>\n",
       "      <th>5</th>\n",
       "      <td>NEWS09727</td>\n",
       "      <td>20200626</td>\n",
       "      <td>롯데·공영 등 7개 TV 홈쇼핑들, 동행세일 동참</td>\n",
       "      <td>[이데일리 권오석 기자] 중소벤처기업부(이하 중기부)는 대한민국 동행세일에 7개 T...</td>\n",
       "      <td>2</td>\n",
       "      <td>0</td>\n",
       "    </tr>\n",
       "  </tbody>\n",
       "</table>\n",
       "</div>"
      ],
      "text/plain": [
       "        n_id      date                        title  \\\n",
       "0  NEWS02580  20200605          [마감]코스닥 기관 678억 순매도   \n",
       "1  NEWS02580  20200605          [마감]코스닥 기관 678억 순매도   \n",
       "2  NEWS02580  20200605          [마감]코스닥 기관 678억 순매도   \n",
       "3  NEWS02580  20200605          [마감]코스닥 기관 678억 순매도   \n",
       "4  NEWS09727  20200626  롯데·공영 등 7개 TV 홈쇼핑들, 동행세일 동참   \n",
       "5  NEWS09727  20200626  롯데·공영 등 7개 TV 홈쇼핑들, 동행세일 동참   \n",
       "\n",
       "                                             content  ord  info  \n",
       "0         [이데일리 MARKETPOINT]15:32 현재 코스닥 기관 678억 순매도    1     0  \n",
       "1              \"실적기반\" 저가에 매집해야 할 8월 급등유망주 TOP 5 전격공개    2     1  \n",
       "2                  하이스탁론, 선취수수료 없는 월 0.4% 최저금리 상품 출시    3     1  \n",
       "3                   종합 경제정보 미디어 이데일리 - 무단전재 & 재배포 금지    4     0  \n",
       "4                               전국적인 소비 붐 조성에 기여할 예정    1     0  \n",
       "5  [이데일리 권오석 기자] 중소벤처기업부(이하 중기부)는 대한민국 동행세일에 7개 T...    2     0  "
      ]
     },
     "execution_count": 61,
     "metadata": {},
     "output_type": "execute_result"
    }
   ],
   "source": [
    "train = pd.read_csv('news_train.csv')\n",
    "test = pd.read_csv('news_test.csv')\n",
    "\n",
    "train.head(6)"
   ]
  },
  {
   "cell_type": "code",
   "execution_count": 120,
   "metadata": {},
   "outputs": [
    {
     "data": {
      "text/plain": [
       "3688"
      ]
     },
     "execution_count": 120,
     "metadata": {},
     "output_type": "execute_result"
    }
   ],
   "source": [
    "len(list(set(train['n_id'])))"
   ]
  },
  {
   "cell_type": "code",
   "execution_count": 121,
   "metadata": {},
   "outputs": [
    {
     "data": {
      "text/plain": [
       "5126"
      ]
     },
     "execution_count": 121,
     "metadata": {},
     "output_type": "execute_result"
    }
   ],
   "source": [
    "len(list(set(test['n_id'])))"
   ]
  },
  {
   "cell_type": "markdown",
   "metadata": {},
   "source": [
    "##### 데이터 정제"
   ]
  },
  {
   "cell_type": "code",
   "execution_count": 1,
   "metadata": {
    "scrolled": false
   },
   "outputs": [],
   "source": [
    "def text_preprocessing(text_list):\n",
    "    token_list = []\n",
    "    stopwords = ['습니다','됩니다','는다' , '으로', 'null' , '으로', \n",
    "                 '에서', '된다', '면서', '다는', '대한', '는데', '다고','라고', '부터']\n",
    "    #tokenizer = Kkma()\n",
    "    tokenizer = Mecab()\n",
    "    \n",
    "    for index, text in enumerate(tqdm(text_list)):\n",
    "        txt = re.sub('[^가-힣a-z]', ' ', text.lower())\n",
    "        token = tokenizer.morphs(txt)\n",
    "        token = [t for t in token if t not in stopwords]\n",
    "        token = [t for t in token if (len(t) >=2) | (t in ['미','러','북','北' , '韓', '日', '中'])]\n",
    "        token_list.append(token)\n",
    "        \n",
    "    return token_list\n",
    "\n",
    "\n",
    "train.loc[:, 'titleToken'] = text_preprocessing(train['title'])\n",
    "train.loc[:, 'contentToken'] = text_preprocessing(train['content'])\n",
    "\n",
    "test.loc[:, 'titleToken'] = text_preprocessing(test['title'])\n",
    "test.loc[:, 'contentToken'] = text_preprocessing(test['content'])"
   ]
  },
  {
   "cell_type": "markdown",
   "metadata": {},
   "source": [
    "##### 가짜뉴스, 진짜뉴스 별 token확인"
   ]
  },
  {
   "cell_type": "code",
   "execution_count": 18,
   "metadata": {
    "scrolled": false
   },
   "outputs": [
    {
     "data": {
      "image/png": "[encoded data removed]",
      "text/plain": [
       "<Figure size 1440x288 with 1 Axes>"
      ]
     },
     "metadata": {
      "needs_background": "light"
     },
     "output_type": "display_data"
    },
    {
     "data": {
      "image/png": "[encoded data removed]",
      "text/plain": [
       "<Figure size 1440x288 with 1 Axes>"
      ]
     },
     "metadata": {
      "needs_background": "light"
     },
     "output_type": "display_data"
    },
    {
     "data": {
      "image/png": "[encoded data removed]",
      "text/plain": [
       "<Figure size 1440x288 with 1 Axes>"
      ]
     },
     "metadata": {
      "needs_background": "light"
     },
     "output_type": "display_data"
    },
    {
     "data": {
      "image/png": "[encoded data removed]",
      "text/plain": [
       "<Figure size 1440x288 with 1 Axes>"
      ]
     },
     "metadata": {
      "needs_background": "light"
     },
     "output_type": "display_data"
    }
   ],
   "source": [
    "import collections\n",
    "\n",
    "\n",
    "#가짜뉴스, 진짜뉴스별 단어 Count\n",
    "trueTitleNounList = [i for i in train.loc[train['info'] == 0 , 'titleToken'].values]\n",
    "fakeTitleNounList = [i for i in train.loc[train['info'] == 1 , 'titleToken'].values]\n",
    "trueContentNounList = [i for i in train.loc[train['info'] == 0 , 'contentToken'].values]\n",
    "fakeContentNounList = [i for i in train.loc[train['info'] == 1 , 'contentToken'].values]\n",
    "\n",
    "\n",
    "trueTitleCounter = collections.Counter([x for sublist in trueTitleNounList for x in sublist])\n",
    "fakeTitleCounter = collections.Counter([x for sublist in fakeTitleNounList for x in sublist])\n",
    "trueContentCounter = collections.Counter([x for sublist in trueContentNounList for x in sublist])\n",
    "fakeContentCounter = collections.Counter([x for sublist in fakeContentNounList for x in sublist])\n",
    "\n",
    "\n",
    "\n",
    "##1. 진짜뉴스 Title 시각화\n",
    "plt.figure(figsize = (20, 4))\n",
    "sns.barplot(x = [i[0] for i in trueTitleCounter.most_common(30)],\n",
    "          y = [i[1] for i in trueTitleCounter.most_common(30)])\n",
    "plt.title('진짜뉴스 Title 빈출 단어', fontsize = 15)\n",
    "plt.show()\n",
    "\n",
    "\n",
    "##2. 가짜뉴스 Title 시각화\n",
    "plt.figure(figsize = (20, 4))\n",
    "sns.barplot(x = [i[0] for i in fakeTitleCounter.most_common(30)],\n",
    "          y = [i[1] for i in fakeTitleCounter.most_common(30)])\n",
    "plt.title('가짜뉴스 Title 빈출 단어', fontsize = 15)\n",
    "plt.show()\n",
    "\n",
    "##3. 진짜뉴스 content 시각화\n",
    "plt.figure(figsize = (20, 4))\n",
    "sns.barplot(x = [i[0] for i in trueContentCounter.most_common(30)],\n",
    "          y = [i[1] for i in trueContentCounter.most_common(30)])\n",
    "plt.title('진짜뉴스 Content 빈출 단어', fontsize = 15)\n",
    "plt.show()\n",
    "\n",
    "##4. 가짜뉴스 content 시각화\n",
    "plt.figure(figsize = (20, 4))\n",
    "sns.barplot(x = [i[0] for i in fakeContentCounter.most_common(30)],\n",
    "          y = [i[1] for i in fakeContentCounter.most_common(30)])\n",
    "plt.title('가짜뉴스 Content 빈출 단어', fontsize = 15)\n",
    "plt.show()"
   ]
  },
  {
   "cell_type": "markdown",
   "metadata": {},
   "source": [
    "##### <center>Doc2Vec</center>"
   ]
  },
  {
   "cell_type": "code",
   "execution_count": 19,
   "metadata": {},
   "outputs": [],
   "source": []
  },
  {
   "cell_type": "markdown",
   "metadata": {},
   "source": [
    "##### doc2vec 학습용 데이터셋 구축"
   ]
  },
  {
   "cell_type": "code",
   "execution_count": 20,
   "metadata": {},
   "outputs": [],
   "source": [
    "from gensim.models.doc2vec import Doc2Vec, TaggedDocument\n",
    "\n",
    "#학습량을 늘리고자 , Train, Test 모두 사용\n",
    "titleTokenSent = list(train['titleToken'].values) + list(test['titleToken'].values)\n",
    "contentTokenSent = list(train['contentToken'].values) + list(test['contentToken'].values)\n",
    "\n",
    "tagged_title = [TaggedDocument(d, ['title_' + str(i)]) for i, d in enumerate(titleTokenSent)]\n",
    "tagged_content = [TaggedDocument(d, ['content_' + str(i)]) for i, d in enumerate(contentTokenSent)]\n",
    "\n",
    "tagged_data = tagged_title + tagged_content"
   ]
  },
  {
   "cell_type": "code",
   "execution_count": 22,
   "metadata": {
    "scrolled": true
   },
   "outputs": [
    {
     "data": {
      "text/plain": [
       "array([ 0.01196892, -0.01703835,  0.03282651, -0.00015121,  0.00257444,\n",
       "        0.0065877 ,  0.00038528, -0.0283552 , -0.0175379 , -0.00345283,\n",
       "        0.03892214,  0.02173506,  0.00017624,  0.02526559, -0.00500074,\n",
       "        0.00086537,  0.00831356,  0.00463991,  0.00604195,  0.00604293,\n",
       "        0.00513969,  0.00712729, -0.03478484,  0.00671188,  0.01958649,\n",
       "       -0.00147584, -0.00781725, -0.01164418, -0.00436263, -0.00651098,\n",
       "        0.02419601,  0.03192189, -0.01864433, -0.03370372, -0.00707891,\n",
       "        0.02594826,  0.0347061 ,  0.00705332, -0.00261844,  0.01467286,\n",
       "        0.01314398, -0.01809525,  0.0321585 ,  0.00411598,  0.02825506,\n",
       "       -0.03011495, -0.01206097, -0.01401468, -0.02061606,  0.00306438,\n",
       "       -0.00258939, -0.0060707 , -0.00433923,  0.0022086 ,  0.045856  ,\n",
       "       -0.01588488,  0.00438131, -0.00875435, -0.03355421,  0.00066266,\n",
       "        0.02001841,  0.00628924, -0.00946352, -0.00586761, -0.00755067,\n",
       "        0.02136491,  0.00083155, -0.0195186 , -0.00874927,  0.01215559,\n",
       "        0.05310008, -0.01140683,  0.02227313,  0.01071321, -0.00341244,\n",
       "       -0.0008371 ,  0.00981141, -0.03474119,  0.01632785,  0.02516859,\n",
       "        0.00158813,  0.00530961, -0.00452067,  0.02381773,  0.02007995,\n",
       "        0.01842705,  0.00882936, -0.02160454,  0.01756631,  0.00350175,\n",
       "       -0.02115387, -0.01316692,  0.01658227, -0.00733215, -0.00591151,\n",
       "       -0.02190019,  0.01576316, -0.00796482,  0.04557211,  0.00092806],\n",
       "      dtype=float32)"
      ]
     },
     "execution_count": 22,
     "metadata": {},
     "output_type": "execute_result"
    }
   ],
   "source": [
    "model = Doc2Vec(tagged_data, vector_size = 100, window = 2, min_count = 1, verbose = 1, epoch = 10)\n",
    "\n",
    "model.infer_vector(train.loc[0, 'titleToken'])"
   ]
  },
  {
   "cell_type": "code",
   "execution_count": 23,
   "metadata": {},
   "outputs": [],
   "source": [
    "def cosine(u, v):\n",
    "    return np.dot(u, v) / (np.linalg.norm(u) * np.linalg.norm(v))"
   ]
  },
  {
   "cell_type": "markdown",
   "metadata": {},
   "source": [
    "##### 제목과 내용의 유사도 구하기"
   ]
  },
  {
   "cell_type": "code",
   "execution_count": 2,
   "metadata": {
    "scrolled": true
   },
   "outputs": [],
   "source": [
    "train_title = list(train['titleToken'].values)\n",
    "train_content = list(train['contentToken'].values)\n",
    "\n",
    "\n",
    "train_sim = [cosine(model.infer_vector(title), model.infer_vector(content)) for title, content in tqdm(zip(train_title, train_content))]\n",
    "\n",
    "\n",
    "test_title = list(test['titleToken'].values)\n",
    "test_content = list(test['contentToken'].values)\n",
    "\n",
    "\n",
    "test_sim = [cosine(model.infer_vector(title), model.infer_vector(content)) for title, content in tqdm(zip(test_title, test_content))]"
   ]
  },
  {
   "cell_type": "code",
   "execution_count": 25,
   "metadata": {},
   "outputs": [
    {
     "data": {
      "text/html": [
       "<div>\n",
       "<style scoped>\n",
       "    .dataframe tbody tr th:only-of-type {\n",
       "        vertical-align: middle;\n",
       "    }\n",
       "\n",
       "    .dataframe tbody tr th {\n",
       "        vertical-align: top;\n",
       "    }\n",
       "\n",
       "    .dataframe thead th {\n",
       "        text-align: right;\n",
       "    }\n",
       "</style>\n",
       "<table border=\"1\" class=\"dataframe\">\n",
       "  <thead>\n",
       "    <tr style=\"text-align: right;\">\n",
       "      <th></th>\n",
       "      <th>n_id</th>\n",
       "      <th>date</th>\n",
       "      <th>title</th>\n",
       "      <th>content</th>\n",
       "      <th>ord</th>\n",
       "      <th>info</th>\n",
       "      <th>titleToken</th>\n",
       "      <th>contentToken</th>\n",
       "      <th>sim</th>\n",
       "    </tr>\n",
       "  </thead>\n",
       "  <tbody>\n",
       "    <tr>\n",
       "      <th>0</th>\n",
       "      <td>NEWS02580</td>\n",
       "      <td>20200605</td>\n",
       "      <td>[마감]코스닥 기관 678억 순매도</td>\n",
       "      <td>[이데일리 MARKETPOINT]15:32 현재 코스닥 기관 678억 순매도</td>\n",
       "      <td>1</td>\n",
       "      <td>0</td>\n",
       "      <td>[마감, 코스닥, 기관, 순매도]</td>\n",
       "      <td>[데일리, marketpoint, 현재, 코스닥, 기관, 순매도]</td>\n",
       "      <td>0.349228</td>\n",
       "    </tr>\n",
       "    <tr>\n",
       "      <th>1</th>\n",
       "      <td>NEWS02580</td>\n",
       "      <td>20200605</td>\n",
       "      <td>[마감]코스닥 기관 678억 순매도</td>\n",
       "      <td>\"실적기반\" 저가에 매집해야 할 8월 급등유망주 TOP 5 전격공개</td>\n",
       "      <td>2</td>\n",
       "      <td>1</td>\n",
       "      <td>[마감, 코스닥, 기관, 순매도]</td>\n",
       "      <td>[실적, 기반, 저가, 매집, 해야, 급등, 유망주, top, 전격, 공개]</td>\n",
       "      <td>0.514106</td>\n",
       "    </tr>\n",
       "    <tr>\n",
       "      <th>2</th>\n",
       "      <td>NEWS02580</td>\n",
       "      <td>20200605</td>\n",
       "      <td>[마감]코스닥 기관 678억 순매도</td>\n",
       "      <td>하이스탁론, 선취수수료 없는 월 0.4% 최저금리 상품 출시</td>\n",
       "      <td>3</td>\n",
       "      <td>1</td>\n",
       "      <td>[마감, 코스닥, 기관, 순매도]</td>\n",
       "      <td>[하이스, 탁론, 선취, 수수료, 최저, 금리, 상품, 출시]</td>\n",
       "      <td>0.740146</td>\n",
       "    </tr>\n",
       "    <tr>\n",
       "      <th>3</th>\n",
       "      <td>NEWS02580</td>\n",
       "      <td>20200605</td>\n",
       "      <td>[마감]코스닥 기관 678억 순매도</td>\n",
       "      <td>종합 경제정보 미디어 이데일리 - 무단전재 &amp; 재배포 금지</td>\n",
       "      <td>4</td>\n",
       "      <td>0</td>\n",
       "      <td>[마감, 코스닥, 기관, 순매도]</td>\n",
       "      <td>[종합, 경제, 정보, 미디어, 데일리, 무단, 전재, 배포, 금지]</td>\n",
       "      <td>0.597437</td>\n",
       "    </tr>\n",
       "    <tr>\n",
       "      <th>4</th>\n",
       "      <td>NEWS09727</td>\n",
       "      <td>20200626</td>\n",
       "      <td>롯데·공영 등 7개 TV 홈쇼핑들, 동행세일 동참</td>\n",
       "      <td>전국적인 소비 붐 조성에 기여할 예정</td>\n",
       "      <td>1</td>\n",
       "      <td>0</td>\n",
       "      <td>[롯데, 공영, tv, 쇼핑, 동행, 세일, 동참]</td>\n",
       "      <td>[전국, 소비, 조성, 기여, 예정]</td>\n",
       "      <td>-0.232507</td>\n",
       "    </tr>\n",
       "    <tr>\n",
       "      <th>5</th>\n",
       "      <td>NEWS09727</td>\n",
       "      <td>20200626</td>\n",
       "      <td>롯데·공영 등 7개 TV 홈쇼핑들, 동행세일 동참</td>\n",
       "      <td>[이데일리 권오석 기자] 중소벤처기업부(이하 중기부)는 대한민국 동행세일에 7개 T...</td>\n",
       "      <td>2</td>\n",
       "      <td>0</td>\n",
       "      <td>[롯데, 공영, tv, 쇼핑, 동행, 세일, 동참]</td>\n",
       "      <td>[데일리, 권오석, 기자, 중소, 벤처, 기업, 이하, 기부, 대한민국, 동행, 세...</td>\n",
       "      <td>0.375867</td>\n",
       "    </tr>\n",
       "    <tr>\n",
       "      <th>6</th>\n",
       "      <td>NEWS09727</td>\n",
       "      <td>20200626</td>\n",
       "      <td>롯데·공영 등 7개 TV 홈쇼핑들, 동행세일 동참</td>\n",
       "      <td>대한민국 동행세일은 라이브 커머스, 언택트 콘서트, O2O 행사 연계 등 비대면이라...</td>\n",
       "      <td>3</td>\n",
       "      <td>0</td>\n",
       "      <td>[롯데, 공영, tv, 쇼핑, 동행, 세일, 동참]</td>\n",
       "      <td>[대한민국, 동행, 세일, 라이브, 커머스, 택트, 콘서트, 행사, 연계, 대면, ...</td>\n",
       "      <td>0.505593</td>\n",
       "    </tr>\n",
       "    <tr>\n",
       "      <th>7</th>\n",
       "      <td>NEWS09727</td>\n",
       "      <td>20200626</td>\n",
       "      <td>롯데·공영 등 7개 TV 홈쇼핑들, 동행세일 동참</td>\n",
       "      <td>6개 권역에서의 현장행사와 온·오프라인 판촉, TV홈쇼핑 등 연계행사를 통해 소비심...</td>\n",
       "      <td>4</td>\n",
       "      <td>0</td>\n",
       "      <td>[롯데, 공영, tv, 쇼핑, 동행, 세일, 동참]</td>\n",
       "      <td>[권역, 현장, 행사, 오프라인, 판촉, tv, 쇼핑, 연계, 행사, 통해, 소비,...</td>\n",
       "      <td>0.468138</td>\n",
       "    </tr>\n",
       "    <tr>\n",
       "      <th>8</th>\n",
       "      <td>NEWS09727</td>\n",
       "      <td>20200626</td>\n",
       "      <td>롯데·공영 등 7개 TV 홈쇼핑들, 동행세일 동참</td>\n",
       "      <td>이번 동행세일에서는 롯데·공영·CJ·현대·GS·NS·홈앤쇼핑 등 7개 TV 홈쇼핑사...</td>\n",
       "      <td>5</td>\n",
       "      <td>0</td>\n",
       "      <td>[롯데, 공영, tv, 쇼핑, 동행, 세일, 동참]</td>\n",
       "      <td>[이번, 동행, 세일, 롯데, 공영, cj, 현대, gs, ns, 쇼핑, tv, 쇼...</td>\n",
       "      <td>0.092967</td>\n",
       "    </tr>\n",
       "    <tr>\n",
       "      <th>9</th>\n",
       "      <td>NEWS09727</td>\n",
       "      <td>20200626</td>\n",
       "      <td>롯데·공영 등 7개 TV 홈쇼핑들, 동행세일 동참</td>\n",
       "      <td>동행세일 기간 중 홈쇼핑사에서는 판매방송 사이에 영상을 노출하는 방식(SB, sta...</td>\n",
       "      <td>6</td>\n",
       "      <td>0</td>\n",
       "      <td>[롯데, 공영, tv, 쇼핑, 동행, 세일, 동참]</td>\n",
       "      <td>[동행, 세일, 기간, 쇼핑, 판매, 방송, 사이, 영상, 노출, 방식, sb, s...</td>\n",
       "      <td>0.283796</td>\n",
       "    </tr>\n",
       "  </tbody>\n",
       "</table>\n",
       "</div>"
      ],
      "text/plain": [
       "        n_id      date                        title  \\\n",
       "0  NEWS02580  20200605          [마감]코스닥 기관 678억 순매도   \n",
       "1  NEWS02580  20200605          [마감]코스닥 기관 678억 순매도   \n",
       "2  NEWS02580  20200605          [마감]코스닥 기관 678억 순매도   \n",
       "3  NEWS02580  20200605          [마감]코스닥 기관 678억 순매도   \n",
       "4  NEWS09727  20200626  롯데·공영 등 7개 TV 홈쇼핑들, 동행세일 동참   \n",
       "5  NEWS09727  20200626  롯데·공영 등 7개 TV 홈쇼핑들, 동행세일 동참   \n",
       "6  NEWS09727  20200626  롯데·공영 등 7개 TV 홈쇼핑들, 동행세일 동참   \n",
       "7  NEWS09727  20200626  롯데·공영 등 7개 TV 홈쇼핑들, 동행세일 동참   \n",
       "8  NEWS09727  20200626  롯데·공영 등 7개 TV 홈쇼핑들, 동행세일 동참   \n",
       "9  NEWS09727  20200626  롯데·공영 등 7개 TV 홈쇼핑들, 동행세일 동참   \n",
       "\n",
       "                                             content  ord  info  \\\n",
       "0         [이데일리 MARKETPOINT]15:32 현재 코스닥 기관 678억 순매도    1     0   \n",
       "1              \"실적기반\" 저가에 매집해야 할 8월 급등유망주 TOP 5 전격공개    2     1   \n",
       "2                  하이스탁론, 선취수수료 없는 월 0.4% 최저금리 상품 출시    3     1   \n",
       "3                   종합 경제정보 미디어 이데일리 - 무단전재 & 재배포 금지    4     0   \n",
       "4                               전국적인 소비 붐 조성에 기여할 예정    1     0   \n",
       "5  [이데일리 권오석 기자] 중소벤처기업부(이하 중기부)는 대한민국 동행세일에 7개 T...    2     0   \n",
       "6  대한민국 동행세일은 라이브 커머스, 언택트 콘서트, O2O 행사 연계 등 비대면이라...    3     0   \n",
       "7  6개 권역에서의 현장행사와 온·오프라인 판촉, TV홈쇼핑 등 연계행사를 통해 소비심...    4     0   \n",
       "8  이번 동행세일에서는 롯데·공영·CJ·현대·GS·NS·홈앤쇼핑 등 7개 TV 홈쇼핑사...    5     0   \n",
       "9  동행세일 기간 중 홈쇼핑사에서는 판매방송 사이에 영상을 노출하는 방식(SB, sta...    6     0   \n",
       "\n",
       "                     titleToken  \\\n",
       "0            [마감, 코스닥, 기관, 순매도]   \n",
       "1            [마감, 코스닥, 기관, 순매도]   \n",
       "2            [마감, 코스닥, 기관, 순매도]   \n",
       "3            [마감, 코스닥, 기관, 순매도]   \n",
       "4  [롯데, 공영, tv, 쇼핑, 동행, 세일, 동참]   \n",
       "5  [롯데, 공영, tv, 쇼핑, 동행, 세일, 동참]   \n",
       "6  [롯데, 공영, tv, 쇼핑, 동행, 세일, 동참]   \n",
       "7  [롯데, 공영, tv, 쇼핑, 동행, 세일, 동참]   \n",
       "8  [롯데, 공영, tv, 쇼핑, 동행, 세일, 동참]   \n",
       "9  [롯데, 공영, tv, 쇼핑, 동행, 세일, 동참]   \n",
       "\n",
       "                                        contentToken       sim  \n",
       "0               [데일리, marketpoint, 현재, 코스닥, 기관, 순매도]  0.349228  \n",
       "1         [실적, 기반, 저가, 매집, 해야, 급등, 유망주, top, 전격, 공개]  0.514106  \n",
       "2                 [하이스, 탁론, 선취, 수수료, 최저, 금리, 상품, 출시]  0.740146  \n",
       "3             [종합, 경제, 정보, 미디어, 데일리, 무단, 전재, 배포, 금지]  0.597437  \n",
       "4                               [전국, 소비, 조성, 기여, 예정] -0.232507  \n",
       "5  [데일리, 권오석, 기자, 중소, 벤처, 기업, 이하, 기부, 대한민국, 동행, 세...  0.375867  \n",
       "6  [대한민국, 동행, 세일, 라이브, 커머스, 택트, 콘서트, 행사, 연계, 대면, ...  0.505593  \n",
       "7  [권역, 현장, 행사, 오프라인, 판촉, tv, 쇼핑, 연계, 행사, 통해, 소비,...  0.468138  \n",
       "8  [이번, 동행, 세일, 롯데, 공영, cj, 현대, gs, ns, 쇼핑, tv, 쇼...  0.092967  \n",
       "9  [동행, 세일, 기간, 쇼핑, 판매, 방송, 사이, 영상, 노출, 방식, sb, s...  0.283796  "
      ]
     },
     "execution_count": 25,
     "metadata": {},
     "output_type": "execute_result"
    }
   ],
   "source": [
    "train['sim'] = train_sim\n",
    "test['sim'] = test_sim\n",
    "train.head(10)"
   ]
  },
  {
   "cell_type": "markdown",
   "metadata": {},
   "source": [
    "##### 문장들을 벡터로 변환"
   ]
  },
  {
   "cell_type": "code",
   "execution_count": 3,
   "metadata": {},
   "outputs": [],
   "source": [
    "train_X = [np.append(model.infer_vector(title) , model.infer_vector(content))for title,content in tqdm(zip(train_title, train_content))]\n",
    "test_X = [np.append(model.infer_vector(title) , model.infer_vector(content))for title,content in tqdm(zip(test_title, test_content))]\n",
    "\n",
    "train_y = train['info'].values"
   ]
  },
  {
   "cell_type": "code",
   "execution_count": 31,
   "metadata": {},
   "outputs": [],
   "source": [
    "from sklearn.model_selection import train_test_split\n",
    "import lightgbm as lgbm"
   ]
  },
  {
   "cell_type": "code",
   "execution_count": 83,
   "metadata": {},
   "outputs": [
    {
     "data": {
      "text/html": [
       "<div>\n",
       "<style scoped>\n",
       "    .dataframe tbody tr th:only-of-type {\n",
       "        vertical-align: middle;\n",
       "    }\n",
       "\n",
       "    .dataframe tbody tr th {\n",
       "        vertical-align: top;\n",
       "    }\n",
       "\n",
       "    .dataframe thead th {\n",
       "        text-align: right;\n",
       "    }\n",
       "</style>\n",
       "<table border=\"1\" class=\"dataframe\">\n",
       "  <thead>\n",
       "    <tr style=\"text-align: right;\">\n",
       "      <th></th>\n",
       "      <th>101</th>\n",
       "      <th>102</th>\n",
       "      <th>103</th>\n",
       "      <th>104</th>\n",
       "      <th>105</th>\n",
       "      <th>106</th>\n",
       "      <th>107</th>\n",
       "      <th>108</th>\n",
       "      <th>109</th>\n",
       "      <th>110</th>\n",
       "      <th>...</th>\n",
       "      <th>191</th>\n",
       "      <th>192</th>\n",
       "      <th>193</th>\n",
       "      <th>194</th>\n",
       "      <th>195</th>\n",
       "      <th>196</th>\n",
       "      <th>197</th>\n",
       "      <th>198</th>\n",
       "      <th>199</th>\n",
       "      <th>sim</th>\n",
       "    </tr>\n",
       "  </thead>\n",
       "  <tbody>\n",
       "    <tr>\n",
       "      <th>63366</th>\n",
       "      <td>-0.002845</td>\n",
       "      <td>0.018380</td>\n",
       "      <td>-0.038949</td>\n",
       "      <td>0.074185</td>\n",
       "      <td>-0.032890</td>\n",
       "      <td>0.008840</td>\n",
       "      <td>0.030532</td>\n",
       "      <td>0.075979</td>\n",
       "      <td>0.058186</td>\n",
       "      <td>0.023637</td>\n",
       "      <td>...</td>\n",
       "      <td>-0.022077</td>\n",
       "      <td>0.012728</td>\n",
       "      <td>0.046227</td>\n",
       "      <td>0.088141</td>\n",
       "      <td>0.110291</td>\n",
       "      <td>-0.037086</td>\n",
       "      <td>-0.021948</td>\n",
       "      <td>0.034137</td>\n",
       "      <td>-0.036302</td>\n",
       "      <td>0.082821</td>\n",
       "    </tr>\n",
       "    <tr>\n",
       "      <th>97981</th>\n",
       "      <td>-0.000233</td>\n",
       "      <td>-0.003849</td>\n",
       "      <td>0.001753</td>\n",
       "      <td>-0.000600</td>\n",
       "      <td>-0.001167</td>\n",
       "      <td>0.004186</td>\n",
       "      <td>-0.005015</td>\n",
       "      <td>0.000192</td>\n",
       "      <td>0.003532</td>\n",
       "      <td>0.002076</td>\n",
       "      <td>...</td>\n",
       "      <td>-0.003035</td>\n",
       "      <td>-0.003515</td>\n",
       "      <td>0.002512</td>\n",
       "      <td>-0.002044</td>\n",
       "      <td>-0.000389</td>\n",
       "      <td>-0.005118</td>\n",
       "      <td>-0.001440</td>\n",
       "      <td>-0.002598</td>\n",
       "      <td>0.004024</td>\n",
       "      <td>0.438900</td>\n",
       "    </tr>\n",
       "    <tr>\n",
       "      <th>13265</th>\n",
       "      <td>-0.005284</td>\n",
       "      <td>0.024862</td>\n",
       "      <td>-0.003954</td>\n",
       "      <td>0.008726</td>\n",
       "      <td>-0.012073</td>\n",
       "      <td>-0.000937</td>\n",
       "      <td>-0.031847</td>\n",
       "      <td>-0.012509</td>\n",
       "      <td>-0.026627</td>\n",
       "      <td>0.023057</td>\n",
       "      <td>...</td>\n",
       "      <td>-0.026557</td>\n",
       "      <td>0.007263</td>\n",
       "      <td>-0.013357</td>\n",
       "      <td>-0.023547</td>\n",
       "      <td>-0.013580</td>\n",
       "      <td>-0.005645</td>\n",
       "      <td>-0.006224</td>\n",
       "      <td>0.034937</td>\n",
       "      <td>-0.013038</td>\n",
       "      <td>0.774566</td>\n",
       "    </tr>\n",
       "    <tr>\n",
       "      <th>98325</th>\n",
       "      <td>0.009495</td>\n",
       "      <td>0.010864</td>\n",
       "      <td>-0.003529</td>\n",
       "      <td>0.003196</td>\n",
       "      <td>-0.010305</td>\n",
       "      <td>0.002837</td>\n",
       "      <td>-0.012600</td>\n",
       "      <td>0.008339</td>\n",
       "      <td>-0.011475</td>\n",
       "      <td>0.020891</td>\n",
       "      <td>...</td>\n",
       "      <td>-0.020463</td>\n",
       "      <td>0.013101</td>\n",
       "      <td>-0.017038</td>\n",
       "      <td>-0.011832</td>\n",
       "      <td>-0.001880</td>\n",
       "      <td>0.011159</td>\n",
       "      <td>-0.003630</td>\n",
       "      <td>0.019667</td>\n",
       "      <td>0.010037</td>\n",
       "      <td>0.253479</td>\n",
       "    </tr>\n",
       "    <tr>\n",
       "      <th>30789</th>\n",
       "      <td>0.054073</td>\n",
       "      <td>-0.079247</td>\n",
       "      <td>-0.003162</td>\n",
       "      <td>0.042745</td>\n",
       "      <td>-0.065271</td>\n",
       "      <td>0.033838</td>\n",
       "      <td>0.028977</td>\n",
       "      <td>-0.035154</td>\n",
       "      <td>0.082972</td>\n",
       "      <td>0.002445</td>\n",
       "      <td>...</td>\n",
       "      <td>0.045620</td>\n",
       "      <td>-0.047377</td>\n",
       "      <td>0.030438</td>\n",
       "      <td>-0.022875</td>\n",
       "      <td>0.009619</td>\n",
       "      <td>-0.026871</td>\n",
       "      <td>-0.001026</td>\n",
       "      <td>-0.053990</td>\n",
       "      <td>0.001351</td>\n",
       "      <td>-0.135141</td>\n",
       "    </tr>\n",
       "  </tbody>\n",
       "</table>\n",
       "<p>5 rows × 100 columns</p>\n",
       "</div>"
      ],
      "text/plain": [
       "            101       102       103       104       105       106       107  \\\n",
       "63366 -0.002845  0.018380 -0.038949  0.074185 -0.032890  0.008840  0.030532   \n",
       "97981 -0.000233 -0.003849  0.001753 -0.000600 -0.001167  0.004186 -0.005015   \n",
       "13265 -0.005284  0.024862 -0.003954  0.008726 -0.012073 -0.000937 -0.031847   \n",
       "98325  0.009495  0.010864 -0.003529  0.003196 -0.010305  0.002837 -0.012600   \n",
       "30789  0.054073 -0.079247 -0.003162  0.042745 -0.065271  0.033838  0.028977   \n",
       "\n",
       "            108       109       110  ...       191       192       193  \\\n",
       "63366  0.075979  0.058186  0.023637  ... -0.022077  0.012728  0.046227   \n",
       "97981  0.000192  0.003532  0.002076  ... -0.003035 -0.003515  0.002512   \n",
       "13265 -0.012509 -0.026627  0.023057  ... -0.026557  0.007263 -0.013357   \n",
       "98325  0.008339 -0.011475  0.020891  ... -0.020463  0.013101 -0.017038   \n",
       "30789 -0.035154  0.082972  0.002445  ...  0.045620 -0.047377  0.030438   \n",
       "\n",
       "            194       195       196       197       198       199       sim  \n",
       "63366  0.088141  0.110291 -0.037086 -0.021948  0.034137 -0.036302  0.082821  \n",
       "97981 -0.002044 -0.000389 -0.005118 -0.001440 -0.002598  0.004024  0.438900  \n",
       "13265 -0.023547 -0.013580 -0.005645 -0.006224  0.034937 -0.013038  0.774566  \n",
       "98325 -0.011832 -0.001880  0.011159 -0.003630  0.019667  0.010037  0.253479  \n",
       "30789 -0.022875  0.009619 -0.026871 -0.001026 -0.053990  0.001351 -0.135141  \n",
       "\n",
       "[5 rows x 100 columns]"
      ]
     },
     "execution_count": 83,
     "metadata": {},
     "output_type": "execute_result"
    }
   ],
   "source": [
    "df_train_X = pd.DataFrame(train_X)\n",
    "df_train_X['sim'] = train_sim\n",
    "df_train_X.tail()"
   ]
  },
  {
   "cell_type": "code",
   "execution_count": 86,
   "metadata": {},
   "outputs": [
    {
     "name": "stdout",
     "output_type": "stream",
     "text": [
      "(66793, 100) (22265, 100)\n",
      "(66793,) (22265,)\n"
     ]
    }
   ],
   "source": [
    "train_X, val_X, train_y, val_y = train_test_split(df_train_X, train_y)\n",
    "print(train_X.shape, val_X.shape)\n",
    "print(train_y.shape, val_y.shape)"
   ]
  },
  {
   "cell_type": "markdown",
   "metadata": {},
   "source": [
    "##### LightGBM"
   ]
  },
  {
   "cell_type": "code",
   "execution_count": 87,
   "metadata": {},
   "outputs": [
    {
     "data": {
      "text/plain": [
       "LGBMClassifier(num_leaves=127)"
      ]
     },
     "execution_count": 87,
     "metadata": {},
     "output_type": "execute_result"
    }
   ],
   "source": [
    "lgbModel = lgbm.LGBMClassifier(num_leaves = 127)\n",
    "lgbModel.fit(X = train_X, y= train_y)"
   ]
  },
  {
   "cell_type": "code",
   "execution_count": 89,
   "metadata": {
    "scrolled": true
   },
   "outputs": [
    {
     "name": "stdout",
     "output_type": "stream",
     "text": [
      "0.9059510442398383\n"
     ]
    }
   ],
   "source": [
    "\n",
    "print(accuracy_score(val_y, lgbModel.predict(X = pd.DataFrame(val_X))))"
   ]
  },
  {
   "cell_type": "markdown",
   "metadata": {},
   "source": [
    ">- 90.5% 상당히 좋지 않음"
   ]
  },
  {
   "cell_type": "markdown",
   "metadata": {},
   "source": [
    "##### 검증용 데이터를 통해 얼마나 맞는지 한번 확인"
   ]
  },
  {
   "cell_type": "code",
   "execution_count": 94,
   "metadata": {},
   "outputs": [
    {
     "data": {
      "text/html": [
       "<div>\n",
       "<style scoped>\n",
       "    .dataframe tbody tr th:only-of-type {\n",
       "        vertical-align: middle;\n",
       "    }\n",
       "\n",
       "    .dataframe tbody tr th {\n",
       "        vertical-align: top;\n",
       "    }\n",
       "\n",
       "    .dataframe thead th {\n",
       "        text-align: right;\n",
       "    }\n",
       "</style>\n",
       "<table border=\"1\" class=\"dataframe\">\n",
       "  <thead>\n",
       "    <tr style=\"text-align: right;\">\n",
       "      <th></th>\n",
       "      <th>n_id</th>\n",
       "      <th>date</th>\n",
       "      <th>title</th>\n",
       "      <th>content</th>\n",
       "      <th>ord</th>\n",
       "      <th>info</th>\n",
       "      <th>pred</th>\n",
       "    </tr>\n",
       "  </thead>\n",
       "  <tbody>\n",
       "    <tr>\n",
       "      <th>21347</th>\n",
       "      <td>NEWS05766</td>\n",
       "      <td>20200619</td>\n",
       "      <td>'일지테크' 10% 이상 상승, 전일 외국인 대량 순매수</td>\n",
       "      <td>반면 그동안 외국인은 16.6만주를 순매도했다</td>\n",
       "      <td>2</td>\n",
       "      <td>0</td>\n",
       "      <td>0</td>\n",
       "    </tr>\n",
       "    <tr>\n",
       "      <th>86886</th>\n",
       "      <td>NEWS04388</td>\n",
       "      <td>20200326</td>\n",
       "      <td>씨유메디칼 19.24% 이상 급등 중</td>\n",
       "      <td>동종목의 경우 동기간 일평균 주가변동률은 4.82%를 기록했다</td>\n",
       "      <td>10</td>\n",
       "      <td>0</td>\n",
       "      <td>0</td>\n",
       "    </tr>\n",
       "    <tr>\n",
       "      <th>24714</th>\n",
       "      <td>NEWS00765</td>\n",
       "      <td>20200227</td>\n",
       "      <td>'에스앤에스텍' 52주 신고가 경신, 2019.3Q, 매출액 241억(+56.7%)...</td>\n",
       "      <td>\"100만원\"만 있어도 지금 당장 \"이것\"부터 사라.. .</td>\n",
       "      <td>5</td>\n",
       "      <td>1</td>\n",
       "      <td>1</td>\n",
       "    </tr>\n",
       "    <tr>\n",
       "      <th>87426</th>\n",
       "      <td>NEWS06170</td>\n",
       "      <td>20200328</td>\n",
       "      <td>아베 \"日, 대규모 경제대책 마련할것\"</td>\n",
       "      <td>지자체 외출자제 요청에 응해달라</td>\n",
       "      <td>34</td>\n",
       "      <td>0</td>\n",
       "      <td>0</td>\n",
       "    </tr>\n",
       "    <tr>\n",
       "      <th>57273</th>\n",
       "      <td>NEWS01815</td>\n",
       "      <td>20200330</td>\n",
       "      <td>유럽 내 한국기업, 10곳 중 9곳 코로나19 피해 ‘심각’</td>\n",
       "      <td>똑똑해진 소비자..한국도 이젠 소형차 시대</td>\n",
       "      <td>41</td>\n",
       "      <td>1</td>\n",
       "      <td>1</td>\n",
       "    </tr>\n",
       "    <tr>\n",
       "      <th>...</th>\n",
       "      <td>...</td>\n",
       "      <td>...</td>\n",
       "      <td>...</td>\n",
       "      <td>...</td>\n",
       "      <td>...</td>\n",
       "      <td>...</td>\n",
       "      <td>...</td>\n",
       "    </tr>\n",
       "    <tr>\n",
       "      <th>41227</th>\n",
       "      <td>NEWS01190</td>\n",
       "      <td>20200527</td>\n",
       "      <td>SK하이닉스, 외국인 4만 9315주 순매수… 주가 0.49%</td>\n",
       "      <td>SK하이닉스, 투자자 검색 급증... 주가 8만 1200원(-0.12%)</td>\n",
       "      <td>14</td>\n",
       "      <td>1</td>\n",
       "      <td>0</td>\n",
       "    </tr>\n",
       "    <tr>\n",
       "      <th>6332</th>\n",
       "      <td>NEWS03804</td>\n",
       "      <td>20200605</td>\n",
       "      <td>안랩, 클라우드 워크로드 보안 플랫폼 `안랩 CPP` 출시</td>\n",
       "      <td>\"실적기반\" 저가에 매집해야 할 8월 급등유망주 TOP 5 전격공개</td>\n",
       "      <td>8</td>\n",
       "      <td>1</td>\n",
       "      <td>1</td>\n",
       "    </tr>\n",
       "    <tr>\n",
       "      <th>74255</th>\n",
       "      <td>NEWS05037</td>\n",
       "      <td>20200320</td>\n",
       "      <td>“묻고 더블로”…주가지수 ‘베팅’장 된 시중은행</td>\n",
       "      <td>주식시장의 역사를 다시 쓸 역대급 종목. 목표 1700% 이상.</td>\n",
       "      <td>47</td>\n",
       "      <td>1</td>\n",
       "      <td>1</td>\n",
       "    </tr>\n",
       "    <tr>\n",
       "      <th>14116</th>\n",
       "      <td>NEWS07093</td>\n",
       "      <td>20200508</td>\n",
       "      <td>최태원 SK 회장, 스포츠단 화상 격려…\"국민 힘 돼달라\"</td>\n",
       "      <td>최 회장은 스포츠야말로 코로나19로 지친 국민들에게 힘과 용기를 줄 수 있는 각본없...</td>\n",
       "      <td>7</td>\n",
       "      <td>0</td>\n",
       "      <td>0</td>\n",
       "    </tr>\n",
       "    <tr>\n",
       "      <th>116955</th>\n",
       "      <td>NEWS09713</td>\n",
       "      <td>20200513</td>\n",
       "      <td>트로트 가수 조항조·진성, 우리엔터와 전속계약</td>\n",
       "      <td>우리엔터테인먼트는 가수 조항조, 진성과 전속계약을 했다고 13일 밝혔다</td>\n",
       "      <td>3</td>\n",
       "      <td>0</td>\n",
       "      <td>0</td>\n",
       "    </tr>\n",
       "  </tbody>\n",
       "</table>\n",
       "<p>22265 rows × 7 columns</p>\n",
       "</div>"
      ],
      "text/plain": [
       "             n_id      date  \\\n",
       "21347   NEWS05766  20200619   \n",
       "86886   NEWS04388  20200326   \n",
       "24714   NEWS00765  20200227   \n",
       "87426   NEWS06170  20200328   \n",
       "57273   NEWS01815  20200330   \n",
       "...           ...       ...   \n",
       "41227   NEWS01190  20200527   \n",
       "6332    NEWS03804  20200605   \n",
       "74255   NEWS05037  20200320   \n",
       "14116   NEWS07093  20200508   \n",
       "116955  NEWS09713  20200513   \n",
       "\n",
       "                                                    title  \\\n",
       "21347                     '일지테크' 10% 이상 상승, 전일 외국인 대량 순매수   \n",
       "86886                                씨유메디칼 19.24% 이상 급등 중   \n",
       "24714   '에스앤에스텍' 52주 신고가 경신, 2019.3Q, 매출액 241억(+56.7%)...   \n",
       "87426                               아베 \"日, 대규모 경제대책 마련할것\"   \n",
       "57273                   유럽 내 한국기업, 10곳 중 9곳 코로나19 피해 ‘심각’   \n",
       "...                                                   ...   \n",
       "41227                  SK하이닉스, 외국인 4만 9315주 순매수… 주가 0.49%   \n",
       "6332                     안랩, 클라우드 워크로드 보안 플랫폼 `안랩 CPP` 출시   \n",
       "74255                          “묻고 더블로”…주가지수 ‘베팅’장 된 시중은행   \n",
       "14116                    최태원 SK 회장, 스포츠단 화상 격려…\"국민 힘 돼달라\"   \n",
       "116955                          트로트 가수 조항조·진성, 우리엔터와 전속계약   \n",
       "\n",
       "                                                  content  ord  info  pred  \n",
       "21347                           반면 그동안 외국인은 16.6만주를 순매도했다    2     0     0  \n",
       "86886                  동종목의 경우 동기간 일평균 주가변동률은 4.82%를 기록했다   10     0     0  \n",
       "24714                    \"100만원\"만 있어도 지금 당장 \"이것\"부터 사라.. .    5     1     1  \n",
       "87426                                   지자체 외출자제 요청에 응해달라   34     0     0  \n",
       "57273                             똑똑해진 소비자..한국도 이젠 소형차 시대   41     1     1  \n",
       "...                                                   ...  ...   ...   ...  \n",
       "41227            SK하이닉스, 투자자 검색 급증... 주가 8만 1200원(-0.12%)   14     1     0  \n",
       "6332                \"실적기반\" 저가에 매집해야 할 8월 급등유망주 TOP 5 전격공개    8     1     1  \n",
       "74255                 주식시장의 역사를 다시 쓸 역대급 종목. 목표 1700% 이상.   47     1     1  \n",
       "14116   최 회장은 스포츠야말로 코로나19로 지친 국민들에게 힘과 용기를 줄 수 있는 각본없...    7     0     0  \n",
       "116955            우리엔터테인먼트는 가수 조항조, 진성과 전속계약을 했다고 13일 밝혔다    3     0     0  \n",
       "\n",
       "[22265 rows x 7 columns]"
      ]
     },
     "execution_count": 94,
     "metadata": {},
     "output_type": "execute_result"
    }
   ],
   "source": [
    "v = train.loc[pd.DataFrame(val_X).index]\n",
    "v['pred'] = lgbModel.predict(X = pd.DataFrame(val_X))\n",
    "v"
   ]
  }
 ],
 "metadata": {
  "kernelspec": {
   "display_name": "Python 3",
   "language": "python",
   "name": "python3"
  },
  "language_info": {
   "codemirror_mode": {
    "name": "ipython",
    "version": 3
   },
   "file_extension": ".py",
   "mimetype": "text/x-python",
   "name": "python",
   "nbconvert_exporter": "python",
   "pygments_lexer": "ipython3",
   "version": "3.8.5"
  }
 },
 "nbformat": 4,
 "nbformat_minor": 4
}
